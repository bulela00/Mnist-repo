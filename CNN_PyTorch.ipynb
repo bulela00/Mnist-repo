{
  "nbformat": 4,
  "nbformat_minor": 0,
  "metadata": {
    "colab": {
      "provenance": []
    },
    "kernelspec": {
      "name": "python3",
      "display_name": "Python 3"
    },
    "language_info": {
      "name": "python"
    }
  },
  "cells": [
    {
      "cell_type": "markdown",
      "source": [
        "# Implementing CNN using PyTorch"
      ],
      "metadata": {
        "id": "HVo2e9V-iKTd"
      }
    },
    {
      "cell_type": "code",
      "execution_count": null,
      "metadata": {
        "id": "Cb2HBfuJkE5s"
      },
      "outputs": [],
      "source": [
        "# Import Libraries\n",
        "import torch\n",
        "import torch.nn as nn\n",
        "import torch.optim as optim\n",
        "import torchvision\n",
        "import torchvision.transforms as transforms\n",
        "import matplotlib.pyplot as plt\n",
        "import numpy as np\n"
      ]
    },
    {
      "cell_type": "code",
      "source": [
        "# Load Dataset\n",
        "# Define transformations: Convert images to tensors and normalize them\n",
        "transform = transforms.Compose([\n",
        "    transforms.ToTensor(),  # Convert images to PyTorch tensors\n",
        "    transforms.Normalize((0.5,), (0.5,))  # Normalize pixel values to [-1, 1]\n",
        "])\n",
        "\n",
        "# Download and load the training dataset\n",
        "train_dataset = torchvision.datasets.MNIST(\n",
        "    root='./data', train=True, transform=transform, download=True\n",
        ")\n",
        "\n",
        "# Download and load the test dataset\n",
        "test_dataset = torchvision.datasets.MNIST(\n",
        "    root='./data', train=False, transform=transform, download=True\n",
        ")"
      ],
      "metadata": {
        "colab": {
          "base_uri": "https://localhost:8080/"
        },
        "id": "1c7-A6d0iWCS",
        "outputId": "70fc7226-e320-4588-ff0f-d5146a62bcdb"
      },
      "execution_count": null,
      "outputs": [
        {
          "output_type": "stream",
          "name": "stderr",
          "text": [
            "100%|██████████| 9.91M/9.91M [00:00<00:00, 17.1MB/s]\n",
            "100%|██████████| 28.9k/28.9k [00:00<00:00, 439kB/s]\n",
            "100%|██████████| 1.65M/1.65M [00:00<00:00, 4.31MB/s]\n",
            "100%|██████████| 4.54k/4.54k [00:00<00:00, 4.76MB/s]\n"
          ]
        }
      ]
    },
    {
      "cell_type": "code",
      "source": [
        "# Create Data Loaders\n",
        "# Define batch size\n",
        "batch_size = 64\n",
        "\n",
        "# Create DataLoaders for training and testing\n",
        "train_loader = torch.utils.data.DataLoader(dataset=train_dataset, batch_size=batch_size, shuffle=True)\n",
        "test_loader = torch.utils.data.DataLoader(dataset=test_dataset, batch_size=batch_size, shuffle=False)\n"
      ],
      "metadata": {
        "id": "d-VG0fdDibdz"
      },
      "execution_count": null,
      "outputs": []
    },
    {
      "cell_type": "code",
      "source": [
        "# Visualize Some Samples\n",
        "\n",
        "# Function to display images\n",
        "def show_images(images, labels):\n",
        "    images = images.numpy()  # Convert tensors to numpy arrays\n",
        "    fig, axes = plt.subplots(1, len(images), figsize=(10, 2))\n",
        "\n",
        "    for i, ax in enumerate(axes):\n",
        "        ax.imshow(images[i].squeeze(), cmap='gray')  # Remove color channel for grayscale images\n",
        "        ax.set_title(f'Label: {labels[i].item()}')\n",
        "        ax.axis('off')\n",
        "\n",
        "# Get a batch of images from the train_loader\n",
        "data_iter = iter(train_loader)\n",
        "images, labels = next(data_iter)\n",
        "\n",
        "# Show first 5 images\n",
        "show_images(images[:5], labels[:5])\n",
        "plt.show()"
      ],
      "metadata": {
        "colab": {
          "base_uri": "https://localhost:8080/",
          "height": 192
        },
        "id": "rp7sg1jzifNv",
        "outputId": "0de18962-05fe-40de-dc07-d0bee278b7cc"
      },
      "execution_count": null,
      "outputs": [
        {
          "output_type": "display_data",
          "data": {
            "text/plain": [
              "<Figure size 1000x200 with 5 Axes>"
            ],
            "image/png": "[encoded data removed]"
          },
          "metadata": {}
        }
      ]
    },
    {
      "cell_type": "code",
      "source": [
        "# Define the Neural Network Model\n",
        "\n",
        "class NeuralNet(nn.Module):\n",
        "    def __init__(self):\n",
        "        super(NeuralNet, self).__init__()\n",
        "\n",
        "        # Fully connected layers\n",
        "        self.fc1 = nn.Linear(28*28, 128)  # Input layer → Hidden layer 1\n",
        "        self.fc2 = nn.Linear(128, 64)     # Hidden layer 1 → Hidden layer 2\n",
        "        self.fc3 = nn.Linear(64, 10)      # Hidden layer 2 → Output layer\n",
        "\n",
        "        # Define Leaky ReLU with negative slope (default is 0.01)\n",
        "        self.leaky_relu = nn.LeakyReLU(negative_slope=0.01)\n",
        "\n",
        "    def forward(self, x):\n",
        "        x = x.view(-1, 28*28)  # Flatten the image to (batch_size, 784)\n",
        "        x = self.leaky_relu(self.fc1(x))  # Leaky ReLU for hidden layer 1\n",
        "        x = self.leaky_relu(self.fc2(x))  # Leaky ReLU for hidden layer 2\n",
        "        x = self.fc3(x)  # Output logits (no activation, since we use CrossEntropyLoss)\n",
        "        return x\n",
        "\n",
        "# Create model instance\n",
        "model = NeuralNet()\n",
        "print(model)  # Display model architecture"
      ],
      "metadata": {
        "colab": {
          "base_uri": "https://localhost:8080/"
        },
        "id": "mdn26nkYilfo",
        "outputId": "1534c34c-3e06-4825-f65c-f794824dd123"
      },
      "execution_count": null,
      "outputs": [
        {
          "output_type": "stream",
          "name": "stdout",
          "text": [
            "NeuralNet(\n",
            "  (fc1): Linear(in_features=784, out_features=128, bias=True)\n",
            "  (fc2): Linear(in_features=128, out_features=64, bias=True)\n",
            "  (fc3): Linear(in_features=64, out_features=10, bias=True)\n",
            "  (leaky_relu): LeakyReLU(negative_slope=0.01)\n",
            ")\n"
          ]
        }
      ]
    },
    {
      "cell_type": "code",
      "source": [
        "# Define the loss function (Cross-Entropy for classification tasks)\n",
        "criterion = nn.CrossEntropyLoss()\n",
        "\n",
        "# Define the optimizer (Stochastic Gradient Descent)\n",
        "optimizer = optim.SGD(model.parameters(), lr=0.01, momentum=0.9)\n",
        "\n",
        "print(\"Loss function and optimizer initialized!\")"
      ],
      "metadata": {
        "colab": {
          "base_uri": "https://localhost:8080/"
        },
        "id": "PH-QVPigio32",
        "outputId": "45665a95-fbd4-462d-9c57-699c2a149af1"
      },
      "execution_count": null,
      "outputs": [
        {
          "output_type": "stream",
          "name": "stdout",
          "text": [
            "Loss function and optimizer initialized!\n"
          ]
        }
      ]
    },
    {
      "cell_type": "code",
      "source": [
        "# Train the Model\n",
        "num_epochs = 10  # Number of times the model sees the entire dataset\n",
        "\n",
        "for epoch in range(num_epochs):  # Loop through the dataset multiple times\n",
        "    running_loss = 0.0  # Track loss per epoch\n",
        "\n",
        "    for images, labels in train_loader:\n",
        "        # 1. Zero the gradient buffers\n",
        "        optimizer.zero_grad()\n",
        "\n",
        "        # 2. Forward pass\n",
        "        outputs = model(images)\n",
        "\n",
        "        # 3. Compute loss\n",
        "        loss = criterion(outputs, labels)\n",
        "\n",
        "        # 4. Backward pass (compute gradients)\n",
        "        loss.backward()\n",
        "\n",
        "        # 5. Update weights\n",
        "        optimizer.step()\n",
        "\n",
        "        # 6. Accumulate loss\n",
        "        running_loss += loss.item()\n",
        "\n",
        "    # Print loss after each epoch\n",
        "    print(f\"Epoch [{epoch+1}/{num_epochs}], Loss: {running_loss/len(train_loader):.4f}\")\n",
        "\n",
        "print(\"Training complete!\")"
      ],
      "metadata": {
        "colab": {
          "base_uri": "https://localhost:8080/"
        },
        "id": "nxUPaaKGiuMe",
        "outputId": "29827845-dbc9-47da-bcf1-c4b7115c0a0e"
      },
      "execution_count": null,
      "outputs": [
        {
          "output_type": "stream",
          "name": "stdout",
          "text": [
            "Epoch [1/10], Loss: 0.4270\n",
            "Epoch [2/10], Loss: 0.1794\n",
            "Epoch [3/10], Loss: 0.1312\n",
            "Epoch [4/10], Loss: 0.1065\n",
            "Epoch [5/10], Loss: 0.0887\n",
            "Epoch [6/10], Loss: 0.0753\n",
            "Epoch [7/10], Loss: 0.0689\n",
            "Epoch [8/10], Loss: 0.0590\n",
            "Epoch [9/10], Loss: 0.0520\n",
            "Epoch [10/10], Loss: 0.0492\n",
            "Training complete!\n"
          ]
        }
      ]
    },
    {
      "cell_type": "code",
      "source": [
        "## Evaluate the Model\n",
        "\n",
        "correct = 0\n",
        "total = 0\n",
        "\n",
        "# Disable gradient computation for evaluation (faster and memory-efficient)\n",
        "with torch.no_grad():\n",
        "    for images, labels in test_loader:\n",
        "        outputs = model(images)  # Forward pass\n",
        "        _, predicted = torch.max(outputs, 1)  # Get class with highest probability\n",
        "        total += labels.size(0)  # Total test samples\n",
        "        correct += (predicted == labels).sum().item()  # Count correct predictions\n",
        "\n",
        "accuracy = 100 * correct / total\n",
        "print(f\"Test Accuracy: {accuracy:.2f}%\")"
      ],
      "metadata": {
        "colab": {
          "base_uri": "https://localhost:8080/"
        },
        "id": "NstqqdZGiwX6",
        "outputId": "099b225e-cfaf-4c96-c779-c81af2b0e29e"
      },
      "execution_count": null,
      "outputs": [
        {
          "output_type": "stream",
          "name": "stdout",
          "text": [
            "Test Accuracy: 97.61%\n"
          ]
        }
      ]
    },
    {
      "cell_type": "code",
      "source": [
        "# Display Predictions on Sample Images\n",
        "# Get a batch of test images\n",
        "data_iter = iter(test_loader)\n",
        "images, labels = next(data_iter)\n",
        "\n",
        "# Get model predictions\n",
        "with torch.no_grad():\n",
        "    outputs = model(images)\n",
        "    _, predicted = torch.max(outputs, 1)\n",
        "\n",
        "# Function to display images with predicted labels\n",
        "def show_predictions(images, labels, predicted):\n",
        "    images = images.numpy()\n",
        "    fig, axes = plt.subplots(1, 5, figsize=(10, 2))\n",
        "\n",
        "    for i, ax in enumerate(axes):\n",
        "        ax.imshow(images[i].squeeze(), cmap='gray')\n",
        "        ax.set_title(f'Pred: {predicted[i].item()}\\nTrue: {labels[i].item()}')\n",
        "        ax.axis('off')\n",
        "\n",
        "# Show the first 5 test images with predictions\n",
        "show_predictions(images[:5], labels[:5], predicted[:5])\n",
        "plt.show()"
      ],
      "metadata": {
        "colab": {
          "base_uri": "https://localhost:8080/",
          "height": 213
        },
        "id": "Skkq1VJei1z-",
        "outputId": "1667d544-0a4d-41e5-d520-9fca79c5447c"
      },
      "execution_count": null,
      "outputs": [
        {
          "output_type": "display_data",
          "data": {
            "text/plain": [
              "<Figure size 1000x200 with 5 Axes>"
            ],
            "image/png": "[encoded data removed]"
          },
          "metadata": {}
        }
      ]
    }
  ]
}